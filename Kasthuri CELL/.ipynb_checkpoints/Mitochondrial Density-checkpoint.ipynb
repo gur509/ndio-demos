{
 "cells": [
  {
   "cell_type": "markdown",
   "metadata": {},
   "source": [
    "# Mitochondrial-Occurrence Density in an Annotated Volume\n",
    "In this notebook, we'll download annotated mitochondria in a volume using the ndio Python library, and consider the frequency of their occurrence within a volume. We figured out in [a previous file](Download%20Mitochondria.ipynb) how to download the data itself; while this code works alone, that notebook may have some valuable insight for you if you're starting out on your own."
   ]
  },
  {
   "cell_type": "code",
   "execution_count": null,
   "metadata": {
    "collapsed": false
   },
   "outputs": [],
   "source": [
    "import ndio.remote.OCP as OCP\n",
    "oo = OCP()\n",
    "\n",
    "x = (1000, 1900)\n",
    "y = (1890, 2700)\n",
    "z = (1010, 1410)\n",
    "\n",
    "res = 3"
   ]
  },
  {
   "cell_type": "code",
   "execution_count": null,
   "metadata": {
    "collapsed": false
   },
   "outputs": [],
   "source": [
    "kat11mito = oo.get_cutout('kat11mito', 'annotation',\n",
    "              x_start=x[0], x_stop=x[1],\n",
    "              y_start=y[0], y_stop=y[1],\n",
    "              z_start=z[0], z_stop=z[1], resolution=res)"
   ]
  },
  {
   "cell_type": "markdown",
   "metadata": {},
   "source": [
    "## Couting Number of Mitochondria\n",
    "Counting the number of mitochondria in the volume:"
   ]
  },
  {
   "cell_type": "code",
   "execution_count": null,
   "metadata": {
    "collapsed": true
   },
   "outputs": [],
   "source": [
    "import ndio.utils.stats as ndstats"
   ]
  },
  {
   "cell_type": "code",
   "execution_count": null,
   "metadata": {
    "collapsed": false
   },
   "outputs": [],
   "source": [
    "voxel_list, number_of_mitos = ndstats.connected_components(kat11mito)\n",
    "print(number_of_mitos)"
   ]
  },
  {
   "cell_type": "markdown",
   "metadata": {},
   "source": [
    "We now know the number of mitochondria in the volume. We also know the bounds of the data (we defined them in the variables `x`, `y`, and `z`). And lastly we know the resolution (`res`). But we don't know what volume that represents in \"real\" space.\n",
    "\n",
    "OCP's project-info to the rescue! We can use ndio to access this information:"
   ]
  },
  {
   "cell_type": "code",
   "execution_count": null,
   "metadata": {
    "collapsed": false
   },
   "outputs": [],
   "source": [
    "res_3_voxelres = oo.get_proj_info('kat11mito')['dataset']['voxelres'][str(res)]\n",
    "print res_3_voxelres"
   ]
  },
  {
   "cell_type": "markdown",
   "metadata": {},
   "source": [
    "This tells us that the voxel resolution, at scale 3, is $8\\times8\\times10$ nanometers. Using this, we can simply divide to get a volume-density:"
   ]
  },
  {
   "cell_type": "code",
   "execution_count": null,
   "metadata": {
    "collapsed": false
   },
   "outputs": [],
   "source": [
    "density = number_of_mitos / (res_3_voxelres[0]*res_3_voxelres[1]*res_3_voxelres[2])\n",
    "print (density)"
   ]
  }
 ],
 "metadata": {
  "kernelspec": {
   "display_name": "Python 2",
   "language": "python",
   "name": "python2"
  },
  "language_info": {
   "codemirror_mode": {
    "name": "ipython",
    "version": 2
   },
   "file_extension": ".py",
   "mimetype": "text/x-python",
   "name": "python",
   "nbconvert_exporter": "python",
   "pygments_lexer": "ipython2",
   "version": "2.7.10"
  }
 },
 "nbformat": 4,
 "nbformat_minor": 0
}
