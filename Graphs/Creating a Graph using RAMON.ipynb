{
 "cells": [
  {
   "cell_type": "markdown",
   "metadata": {},
   "source": [
    "# Creating a Graph using RAMON (`ndio.ramon.Graph`)\n",
    "ndio has turn-key support for generating graphs from RAMON objects. You can either build them manually, or you can generate a graph using a `Remote` to do some heavy lifting.\n",
    "\n",
    "Below, we generate a graph using a `ndio.remote.neurodata` Remote."
   ]
  },
  {
   "cell_type": "code",
   "execution_count": 1,
   "metadata": {
    "collapsed": false
   },
   "outputs": [
    {
     "name": "stdout",
     "output_type": "stream",
     "text": [
      "0.1.6\n"
     ]
    }
   ],
   "source": [
    "import ndio\n",
    "print(ndio.version)"
   ]
  },
  {
   "cell_type": "code",
   "execution_count": 2,
   "metadata": {
    "collapsed": false
   },
   "outputs": [],
   "source": [
    "from ndio.graphs import RAMONGraph\n",
    "import ndio.remote.neurodata as ND"
   ]
  },
  {
   "cell_type": "markdown",
   "metadata": {},
   "source": [
    "## Instantiating a new RAMONGraph\n",
    "We'll leverage the NeuroData server (`ndio.remote.neurodata`) when creating our graphs by supplying a `Remote`, default token, and default channel to our RAMONGraph constructor."
   ]
  },
  {
   "cell_type": "code",
   "execution_count": 3,
   "metadata": {
    "collapsed": true
   },
   "outputs": [],
   "source": [
    "rg = RAMONGraph(remote=ND(), default_token='kasthuri2015_ramon_v1', default_channel='neurons')"
   ]
  },
  {
   "cell_type": "code",
   "execution_count": 4,
   "metadata": {
    "collapsed": true
   },
   "outputs": [],
   "source": [
    "rg.add_neuron(10016)"
   ]
  },
  {
   "cell_type": "code",
   "execution_count": null,
   "metadata": {
    "collapsed": true
   },
   "outputs": [],
   "source": []
  }
 ],
 "metadata": {
  "kernelspec": {
   "display_name": "Python 2",
   "language": "python",
   "name": "python2"
  },
  "language_info": {
   "codemirror_mode": {
    "name": "ipython",
    "version": 2
   },
   "file_extension": ".py",
   "mimetype": "text/x-python",
   "name": "python",
   "nbconvert_exporter": "python",
   "pygments_lexer": "ipython2",
   "version": "2.7.10"
  }
 },
 "nbformat": 4,
 "nbformat_minor": 0
}
