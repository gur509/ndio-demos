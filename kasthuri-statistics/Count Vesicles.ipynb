{
 "cells": [
  {
   "cell_type": "markdown",
   "metadata": {},
   "source": [
    "# Using ndio + OCP to Count Vesicles in an Annotated Volume\n",
    "In [a previous notebook](Count%20Mitochondria.ipynb), we counted mitochondria in an annotated volume. We'll do the same thing here but with vesicles:"
   ]
  },
  {
   "cell_type": "code",
   "execution_count": 1,
   "metadata": {
    "collapsed": false
   },
   "outputs": [],
   "source": [
    "import ndio.remote.OCP as OCP\n",
    "oo = OCP()"
   ]
  },
  {
   "cell_type": "markdown",
   "metadata": {},
   "source": [
    "Let's use ndio to cut out a chunk of data from the `kat11vesicles` dataset:\n",
    "\n",
    "> <small> **Note:** For some slower internet connections or computers, this command may take a very long time. If you want to see ndio in action but don't want to wait, try using the commented-out version instead, which samples a much smaller subset of the mitochondria annotation.</small>"
   ]
  },
  {
   "cell_type": "code",
   "execution_count": null,
   "metadata": {
    "collapsed": false
   },
   "outputs": [],
   "source": [
    "kat11ves = oo.get_cutout('kat11vesicles', 'annotation',\n",
    "              x_start=1000, x_stop=1900,\n",
    "              y_start=1890,  y_stop=2700,\n",
    "              z_start=1010, z_stop=1410, resolution=3)"
   ]
  },
  {
   "cell_type": "markdown",
   "metadata": {},
   "source": [
    "## Couting Number of Vesicles\n",
    "ndio has its own functions for running Connected Components; we can take advantage of them like this:"
   ]
  },
  {
   "cell_type": "code",
   "execution_count": null,
   "metadata": {
    "collapsed": true
   },
   "outputs": [],
   "source": [
    "import ndio.utils.stats as ndstats"
   ]
  },
  {
   "cell_type": "markdown",
   "metadata": {},
   "source": [
    "The ndio stats package comes with a function called `connected_components`. All we need to do is call it on our data:"
   ]
  },
  {
   "cell_type": "code",
   "execution_count": null,
   "metadata": {
    "collapsed": false
   },
   "outputs": [],
   "source": [
    "voxel_list, number_of_ves = ndstats.connected_components(kat11ves)\n",
    "print(number_of_ves)"
   ]
  },
  {
   "cell_type": "markdown",
   "metadata": {},
   "source": [
    "And we're done."
   ]
  }
 ],
 "metadata": {
  "kernelspec": {
   "display_name": "Python 2",
   "language": "python",
   "name": "python2"
  },
  "language_info": {
   "codemirror_mode": {
    "name": "ipython",
    "version": 2
   },
   "file_extension": ".py",
   "mimetype": "text/x-python",
   "name": "python",
   "nbconvert_exporter": "python",
   "pygments_lexer": "ipython2",
   "version": "2.7.10"
  }
 },
 "nbformat": 4,
 "nbformat_minor": 0
}
