{
 "cells": [
  {
   "cell_type": "markdown",
   "metadata": {},
   "source": [
    "# Using ndio + OCP to Count Mitochondria in an Annotated Volume\n",
    "In this notebook, we'll download annotated mitochondria in a volume using the ndio Python library. We figured out in [a previous file](Download%20Mitochondria.ipynb) how to download the data itself; while this code works standalone, that notebook may have some valuable insight for you if you're starting out on your own."
   ]
  },
  {
   "cell_type": "code",
   "execution_count": null,
   "metadata": {
    "collapsed": false
   },
   "outputs": [],
   "source": [
    "import ndio.remote.OCP as OCP\n",
    "\n",
    "oo = OCP()"
   ]
  },
  {
   "cell_type": "markdown",
   "metadata": {},
   "source": [
    "Let's use ndio to cut out a chunk of data from the `kat11mito` dataset:\n",
    "\n",
    "> <small> **Note:** For some slower internet connections or computers, this command may take a very long time. If you want to see ndio in action but don't want to wait, try using the commented-out version instead, which samples a much smaller subset of the mitochondria annotation.</small>"
   ]
  },
  {
   "cell_type": "code",
   "execution_count": null,
   "metadata": {
    "collapsed": false
   },
   "outputs": [],
   "source": [
    "#\"\"\"\n",
    "kat11mito = oo.get_cutout('kat11mito', 'annotation',\n",
    "              x_start=1000, x_stop=1900,\n",
    "              y_start=1890,  y_stop=2700,\n",
    "              z_start=1010, z_stop=1410, resolution=3)\n",
    "\"\"\"\n",
    "\n",
    "kat11mito = oo.get_cutout('kat11mito', 'annotation',\n",
    "              x_start=1200, x_stop=1600,\n",
    "              y_start=2190,  y_stop=2500,\n",
    "              z_start=1010, z_stop=1210, resolution=3)\n",
    "\"\"\""
   ]
  },
  {
   "cell_type": "markdown",
   "metadata": {},
   "source": [
    "We now have data stored in the `kat11mito` variable. Let's run some analytics!\n",
    "\n",
    "### Counting Number of Populated Voxels\n",
    "This is a good sanity check to be sure that you pulled down actual data and not just a ton of zeros: Let's count how many of our voxels contain non-zero data!\n",
    "\n",
    "> <small> **Note:** For some slower computers, this command may take a very long time. It might be smart to run this in a `pypy` (or otherwise optimized) context.</small>"
   ]
  },
  {
   "cell_type": "code",
   "execution_count": null,
   "metadata": {
    "collapsed": false
   },
   "outputs": [],
   "source": [
    "sum(sum(sum(kat11mito > 0)))"
   ]
  },
  {
   "cell_type": "markdown",
   "metadata": {},
   "source": [
    "## Couting Number of Mitochondria\n",
    "Let's get down to business and count the total number of mitochondria in the dataset.\n",
    "\n",
    "ndio has its own functions for this; we can take advantage of them like this:"
   ]
  },
  {
   "cell_type": "code",
   "execution_count": null,
   "metadata": {
    "collapsed": true
   },
   "outputs": [],
   "source": [
    "import ndio.utils.stats as ndstats"
   ]
  },
  {
   "cell_type": "markdown",
   "metadata": {},
   "source": [
    "The ndio stats package comes with a function called `connected_components`. All we need to do is call it on our data:"
   ]
  },
  {
   "cell_type": "code",
   "execution_count": null,
   "metadata": {
    "collapsed": false
   },
   "outputs": [],
   "source": [
    "voxel_list, number_of_mitos = ndstats.connected_components(kat11mito)\n",
    "print(number_of_mitos)"
   ]
  },
  {
   "cell_type": "markdown",
   "metadata": {},
   "source": [
    "And we're done."
   ]
  }
 ],
 "metadata": {
  "kernelspec": {
   "display_name": "Python 2",
   "language": "python",
   "name": "python2"
  },
  "language_info": {
   "codemirror_mode": {
    "name": "ipython",
    "version": 2
   },
   "file_extension": ".py",
   "mimetype": "text/x-python",
   "name": "python",
   "nbconvert_exporter": "python",
   "pygments_lexer": "ipython2",
   "version": "2.7.10"
  }
 },
 "nbformat": 4,
 "nbformat_minor": 0
}
