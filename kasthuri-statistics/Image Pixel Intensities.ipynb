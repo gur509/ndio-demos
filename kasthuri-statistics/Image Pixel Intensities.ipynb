{
 "cells": [
  {
   "cell_type": "markdown",
   "metadata": {},
   "source": [
    "# Image Pixel Intensities\n",
    "Before running any computer-vision algorithms, it's a smart idea to get our bearings in the data. What's the range of the pixel values? What's the distribution of the values?\n",
    "\n",
    "These values are useful to know before doing any image processing, and while some image-processing software may do this for you, ndio can help with the process."
   ]
  },
  {
   "cell_type": "markdown",
   "metadata": {},
   "source": [
    "## Downloading an Image\n",
    "Let's download a chunk of data from the `kasthuri11` project token and learn a bit about the data. First let's import ndio:"
   ]
  },
  {
   "cell_type": "code",
   "execution_count": null,
   "metadata": {
    "collapsed": false
   },
   "outputs": [],
   "source": [
    "import ndio"
   ]
  },
  {
   "cell_type": "markdown",
   "metadata": {},
   "source": [
    "Next, let's download a chunk of data from the middle of the dataset. We need to download this data from the OCP database, so we'll use the OCP `remote` to access it:"
   ]
  },
  {
   "cell_type": "code",
   "execution_count": null,
   "metadata": {
    "collapsed": true
   },
   "outputs": [],
   "source": [
    "import ndio.remote.OCP as OCP\n",
    "oo = OCP()"
   ]
  },
  {
   "cell_type": "code",
   "execution_count": null,
   "metadata": {
    "collapsed": false
   },
   "outputs": [],
   "source": [
    "chunk = oo.get_cutout(token='kasthuri11', channel='image',\n",
    "                        x_start=2000, x_stop=2050,\n",
    "                        y_start=2000, y_stop=2050,\n",
    "                        z_start=500,   z_stop=550)"
   ]
  },
  {
   "cell_type": "markdown",
   "metadata": {},
   "source": [
    "Note that the above code may take a while to execute, since we're downloading $50\\times50\\times50 =$ 125 thousand uint8 values. \n",
    "\n",
    "Once it finishes, `chunk` holds a numpy array whose shape is `(50, 50, 50)`."
   ]
  },
  {
   "cell_type": "code",
   "execution_count": null,
   "metadata": {
    "collapsed": false
   },
   "outputs": [],
   "source": [
    "chunk.shape"
   ]
  },
  {
   "cell_type": "markdown",
   "metadata": {
    "collapsed": true
   },
   "source": [
    "Why 513 by 513 by 65? ndio follows OCP's cutout-alignment. You can pass a cuboid shape to `get_cutout` by using `block_size=(x, y, z)`. You can ask ndio to crop the data before returning it by passing `crop=True` to `get_cutout`."
   ]
  },
  {
   "cell_type": "markdown",
   "metadata": {},
   "source": [
    "From here, we can use common functions to learn more about our data:"
   ]
  },
  {
   "cell_type": "code",
   "execution_count": null,
   "metadata": {
    "collapsed": false
   },
   "outputs": [],
   "source": [
    "import numpy \n",
    "\n",
    "global_min = chunk.min()\n",
    "global_max = chunk.max()\n",
    "\n",
    "pixel_values = {}\n",
    "for d in numpy.nditer(chunk):\n",
    "    d = int(d)\n",
    "    if d in pixel_values:\n",
    "        pixel_values[d] += 1\n",
    "    else:\n",
    "        pixel_values[d] = 0"
   ]
  }
 ],
 "metadata": {
  "kernelspec": {
   "display_name": "Python 2",
   "language": "python",
   "name": "python2"
  },
  "language_info": {
   "codemirror_mode": {
    "name": "ipython",
    "version": 2
   },
   "file_extension": ".py",
   "mimetype": "text/x-python",
   "name": "python",
   "nbconvert_exporter": "python",
   "pygments_lexer": "ipython2",
   "version": "2.7.10"
  }
 },
 "nbformat": 4,
 "nbformat_minor": 0
}
