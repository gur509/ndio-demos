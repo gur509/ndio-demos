{
 "cells": [
  {
   "cell_type": "markdown",
   "metadata": {},
   "source": [
    "# Using ndio + OCP to Analyze Data\n",
    "In this notebook, we'll see how easy it is to download and analyze data stored in OCP with the ndio Python library."
   ]
  },
  {
   "cell_type": "markdown",
   "metadata": {},
   "source": [
    "## Setup\n",
    "First, let's include the ndio library. If you don't have it installed, you can download it using pip:\n",
    "\n",
    "```\n",
    "pip install ndio\n",
    "```\n",
    "\n",
    "We'll use three parts of ndio's functionality in this example: `ndio.remote` to download data from OCP (plus `ndio.utils` to ease this process), and `ndio.convert` to get the neuro data into a more user-friendly format."
   ]
  },
  {
   "cell_type": "code",
   "execution_count": 1,
   "metadata": {
    "collapsed": true
   },
   "outputs": [],
   "source": [
    "import ndio.utils\n",
    "import ndio.remote.OCP as OCP\n",
    "import ndio.convert.hdf5, ndio.convert"
   ]
  },
  {
   "cell_type": "markdown",
   "metadata": {},
   "source": [
    "We'll also use `numpy` to do some matrix manipulations:"
   ]
  },
  {
   "cell_type": "code",
   "execution_count": 2,
   "metadata": {
    "collapsed": false
   },
   "outputs": [],
   "source": [
    "import numpy"
   ]
  },
  {
   "cell_type": "markdown",
   "metadata": {},
   "source": [
    "We now have everything we need to begin."
   ]
  },
  {
   "cell_type": "markdown",
   "metadata": {},
   "source": [
    "## Finding A Dataset\n",
    "Let's take a look at all of the available, open-source, public-facing projects OCP stores. OCP accesses projects using *tokens*. More information about tokens is available [here](#).\n",
    "\n",
    "We can use `ndio` to access the OCP API to list all public projects. Let's create a new `OCP` endpoint. We'll `ping` it to make sure we can access data from it, and then we'll ask it for all public tokens."
   ]
  },
  {
   "cell_type": "code",
   "execution_count": 3,
   "metadata": {
    "collapsed": false
   },
   "outputs": [
    {
     "data": {
      "text/plain": [
       "\"Everything's working!\""
      ]
     },
     "execution_count": 3,
     "metadata": {},
     "output_type": "execute_result"
    }
   ],
   "source": [
    "oo = OCP()\n",
    "# 200 is the HTTP \"Success\" status code\n",
    "\"Everything's working!\" if oo.ping() == 200 else \"Bad! :(\""
   ]
  },
  {
   "cell_type": "code",
   "execution_count": 4,
   "metadata": {
    "collapsed": false
   },
   "outputs": [
    {
     "data": {
      "text/plain": [
       "[u'ac3',\n",
       " u'ac4',\n",
       " u'bock11',\n",
       " u'cajal_demo',\n",
       " u'Ex10R55',\n",
       " u'Ex12R75',\n",
       " u'Ex12R76',\n",
       " u'Ex13R51',\n",
       " u'Ex14R58',\n",
       " u'Ex2R18C1',\n",
       " u'Ex2R18C2',\n",
       " u'Ex3R43C1',\n",
       " u'Ex3R43C2',\n",
       " u'Ex3R43C3',\n",
       " u'Ex6R15C1',\n",
       " u'Ex6R15C2',\n",
       " u'kasthuri11',\n",
       " u'kasthuri14Maine',\n",
       " u'kasthuri14s1colANNO',\n",
       " u'kasthuri14s1colEM',\n",
       " u'kat11greencylinder',\n",
       " u'kat11mito',\n",
       " u'kat11mojocylinder',\n",
       " u'kat11redcylinder',\n",
       " u'kat11segments',\n",
       " u'kat11synapses',\n",
       " u'kat11vesicles',\n",
       " u'mniatlas',\n",
       " u'test_ramonify_public']"
      ]
     },
     "execution_count": 4,
     "metadata": {},
     "output_type": "execute_result"
    }
   ],
   "source": [
    "oo.get_public_tokens()"
   ]
  },
  {
   "cell_type": "markdown",
   "metadata": {},
   "source": [
    "## Rendering an Image from a `remote` Server\n",
    "The `kasthuri14Maine` token contains image data from Dr. Bobby Kasthuri's [2015 CELL Paper](#). Let's take a look. We'll use `PIL` and `StringIO` to handle rendering the image.\n",
    "\n",
    "> <small>**Note**: This isn't a very efficient way of downloading and showing data. If you want to render a larger dataset, consider using `ndio.remote.OCP.get_data()` instead.</small>"
   ]
  },
  {
   "cell_type": "code",
   "execution_count": 5,
   "metadata": {
    "collapsed": true
   },
   "outputs": [],
   "source": [
    "from PIL import Image\n",
    "from StringIO import StringIO"
   ]
  },
  {
   "cell_type": "code",
   "execution_count": 6,
   "metadata": {
    "collapsed": false
   },
   "outputs": [
    {
     "data": {
      "image/png": "[encoded data removed]",
      "text/plain": [
       "<PIL.PngImagePlugin.PngImageFile image mode=L size=100x100 at 0x1098F1110>"
      ]
     },
     "execution_count": 6,
     "metadata": {},
     "output_type": "execute_result"
    }
   ],
   "source": [
    "Image.open(StringIO(\n",
    "        oo.get_image('kasthuri14Maine', 1200, 1300,\n",
    "                                        1200, 1300,\n",
    "                                        500, 1)))"
   ]
  },
  {
   "cell_type": "markdown",
   "metadata": {},
   "source": [
    "*neato!*"
   ]
  },
  {
   "cell_type": "markdown",
   "metadata": {},
   "source": [
    "## Downloading Annotation Data\n",
    "The OCP framework differentiates between `image` data and `annotation` data, or *\"paint\"*. Annotations can represent anything; the `kat11mito` public token stores a binary matrix of `0` or `1`, with the `1` representing that this voxel is inside a mitochondrion.\n",
    "\n",
    "Let's download a sample of this annotation data and run some stats."
   ]
  },
  {
   "cell_type": "markdown",
   "metadata": {},
   "source": [
    "First, we'll get the bounds of the data. We don't want to ask for data outside of the boundaries of the annotation matrix! We'll use `ndio` to get this information. The `ndio.remote.OCP.get_proj_info()` function returns JSON data; we can reference it like a regular Python dictionary:"
   ]
  },
  {
   "cell_type": "code",
   "execution_count": 7,
   "metadata": {
    "collapsed": false
   },
   "outputs": [
    {
     "data": {
      "text/plain": [
       "{u'0': [21504, 26624, 1850],\n",
       " u'1': [10752, 13312, 1850],\n",
       " u'2': [5376, 6656, 1850],\n",
       " u'3': [2688, 3328, 1850],\n",
       " u'4': [1344, 1664, 1850],\n",
       " u'5': [672, 832, 1850],\n",
       " u'6': [336, 416, 1850],\n",
       " u'7': [168, 208, 1850]}"
      ]
     },
     "execution_count": 7,
     "metadata": {},
     "output_type": "execute_result"
    }
   ],
   "source": [
    "json_data = oo.get_proj_info('kat11mito')\n",
    "json_data['dataset']['imagesize']"
   ]
  },
  {
   "cell_type": "markdown",
   "metadata": {},
   "source": [
    "Each of these items holds the image size for a given resolution. All data is uploaded in `resolution = 0`. OCP can then down-sample this data to get more manageable-sized arrays. For our purposes, we can use `resolution = 3`. "
   ]
  },
  {
   "cell_type": "markdown",
   "metadata": {},
   "source": [
    "Let's use ndio to cut out a chunk of data from the `kat11mito` dataset:\n",
    "\n",
    "> <small> **Note:** For some slower internet connections or computers, this command may take a very long time. </small>"
   ]
  },
  {
   "cell_type": "code",
   "execution_count": 8,
   "metadata": {
    "collapsed": false
   },
   "outputs": [],
   "source": [
    "\"\"\"\n",
    "kat11mito = oo.get_cutout('kat11mito', 'annotation',\n",
    "              x_start=694,  x_stop=1794,\n",
    "              y_start=1750, y_stop=2460,\n",
    "              z_start=1004, z_stop=1379, resolution=3)\n",
    "\"\"\"\n",
    "kat11mito = oo.get_cutout('kat11mito', 'annotation',\n",
    "              x_start=1694, x_stop=1794,\n",
    "              y_start=750,  y_stop=1000,\n",
    "              z_start=1004, z_stop=1079, resolution=3)"
   ]
  },
  {
   "cell_type": "markdown",
   "metadata": {},
   "source": [
    "We now have data stored in the `kat11mito` variable. Let's run some analytics!\n",
    "\n",
    "### Counting Number of Populated Voxels\n",
    "This is a good sanity check to be sure that you pulled down actual data and not just a ton of zeros: Let's count how many of our voxels contain non-zero data!\n",
    "\n",
    "> <small> **Note:** For some slower computers, this command may take a very long time. It might be smart to run this in a `pypy` (or otherwise optimized) context.</small>"
   ]
  },
  {
   "cell_type": "code",
   "execution_count": 9,
   "metadata": {
    "collapsed": false
   },
   "outputs": [
    {
     "data": {
      "text/plain": [
       "0"
      ]
     },
     "execution_count": 9,
     "metadata": {},
     "output_type": "execute_result"
    }
   ],
   "source": [
    "sum(sum(sum(kat11mito > 0)))"
   ]
  },
  {
   "cell_type": "code",
   "execution_count": null,
   "metadata": {
    "collapsed": true
   },
   "outputs": [],
   "source": []
  },
  {
   "cell_type": "code",
   "execution_count": null,
   "metadata": {
    "collapsed": true
   },
   "outputs": [],
   "source": []
  },
  {
   "cell_type": "code",
   "execution_count": null,
   "metadata": {
    "collapsed": true
   },
   "outputs": [],
   "source": []
  }
 ],
 "metadata": {
  "kernelspec": {
   "display_name": "Python 2",
   "language": "python",
   "name": "python2"
  },
  "language_info": {
   "codemirror_mode": {
    "name": "ipython",
    "version": 2
   },
   "file_extension": ".py",
   "mimetype": "text/x-python",
   "name": "python",
   "nbconvert_exporter": "python",
   "pygments_lexer": "ipython2",
   "version": "2.7.10"
  }
 },
 "nbformat": 4,
 "nbformat_minor": 0
}
